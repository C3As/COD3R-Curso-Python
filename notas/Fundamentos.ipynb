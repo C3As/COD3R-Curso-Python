{
 "cells": [
  {
   "cell_type": "markdown",
   "metadata": {},
   "source": [
    "# Primeiros Exemplos"
   ]
  },
  {
   "cell_type": "code",
   "execution_count": 4,
   "metadata": {},
   "outputs": [
    {
     "name": "stdout",
     "output_type": "stream",
     "text": [
      "primeiro programa\n",
      "Help on built-in function print in module builtins:\n",
      "\n",
      "print(...)\n",
      "    print(value, ..., sep=' ', end='\\n', file=sys.stdout, flush=False)\n",
      "    \n",
      "    Prints the values to a stream, or to sys.stdout by default.\n",
      "    Optional keyword arguments:\n",
      "    file:  a file-like object (stream); defaults to the current sys.stdout.\n",
      "    sep:   string inserted between values, default a space.\n",
      "    end:   string appended after the last value, default a newline.\n",
      "    flush: whether to forcibly flush the stream.\n",
      "\n"
     ]
    }
   ],
   "source": [
    "print('primeiro programa')\n",
    "1 \\\n",
    "+ 2\n",
    "\n",
    "help(print)"
   ]
  },
  {
   "cell_type": "markdown",
   "metadata": {},
   "source": [
    "No caso acima a quebra de linha da operacao 1 + 2, é possível, inserindo para isso a barra invertida."
   ]
  },
  {
   "cell_type": "code",
   "execution_count": 6,
   "metadata": {},
   "outputs": [
    {
     "data": {
      "text/plain": [
       "15"
      ]
     },
     "execution_count": 6,
     "metadata": {},
     "output_type": "execute_result"
    }
   ],
   "source": [
    "1 + 2 + 3\n",
    "4 + 5 + 6"
   ]
  },
  {
   "cell_type": "markdown",
   "metadata": {},
   "source": [
    "No caso acima para poder mostrar o resultado das duas operacoes é necessários usar print"
   ]
  },
  {
   "cell_type": "code",
   "execution_count": 7,
   "metadata": {},
   "outputs": [
    {
     "name": "stdout",
     "output_type": "stream",
     "text": [
      "6\n",
      "15\n"
     ]
    }
   ],
   "source": [
    "print(1 + 2 + 3)\n",
    "print(4 + 5 + 6)"
   ]
  },
  {
   "cell_type": "markdown",
   "metadata": {},
   "source": [
    "# Tipos Básicos"
   ]
  },
  {
   "cell_type": "code",
   "execution_count": 18,
   "metadata": {},
   "outputs": [
    {
     "name": "stdout",
     "output_type": "stream",
     "text": [
      "True\n",
      "False\n",
      "2.2\n",
      "Aqui eu falo no meu idioma\n",
      "Tb funciona\n",
      "Você é muito muito muito legal\n",
      "[1, 2, 3]\n",
      "{'nome': 'Pedro', 'idade': 22}\n",
      "None\n"
     ]
    }
   ],
   "source": [
    "print(True) # tipo booleano\n",
    "print(False)# tipo booleano\n",
    "print(1.2 + 1) # tipos real e int\n",
    "print(\"Aqui eu falo no meu idioma\") # tipo string\n",
    "print(\"Tb funciona\")\n",
    "print('Você é '+ 3 * 'muito '+ 'legal')\n",
    "# print(3 + '3') => ambiguidade => int + string\n",
    "print([1, 2, 3]) # tipo lista\n",
    "print({'nome': 'Pedro', 'idade': 22}) # tipo dicionario\n",
    "print(None) # tipo ausencia de valor"
   ]
  },
  {
   "cell_type": "markdown",
   "metadata": {},
   "source": [
    "# Variáveis"
   ]
  },
  {
   "cell_type": "code",
   "execution_count": 21,
   "metadata": {},
   "outputs": [
    {
     "name": "stdout",
     "output_type": "stream",
     "text": [
      "15.2\n",
      "Agora sou uma string\n"
     ]
    },
    {
     "data": {
      "text/plain": [
       "5.2"
      ]
     },
     "execution_count": 21,
     "metadata": {},
     "output_type": "execute_result"
    }
   ],
   "source": [
    "a = 10\n",
    "b = 5.2\n",
    "\n",
    "print(a + b)\n",
    "\n",
    "a = 'Agora sou uma string' # trocando tipo da variável \"a\"\"\n",
    "print(a)\n",
    "a\n",
    "b"
   ]
  },
  {
   "cell_type": "markdown",
   "metadata": {},
   "source": [
    "# Comentários"
   ]
  },
  {
   "cell_type": "code",
   "execution_count": 23,
   "metadata": {},
   "outputs": [
    {
     "name": "stdout",
     "output_type": "stream",
     "text": [
      "994.25\n"
     ]
    }
   ],
   "source": [
    "# Minhas variáveis\n",
    "salario = 3450.45\n",
    "despesas = 2456.2\n",
    "\n",
    "\"\"\"\n",
    "A ideia é calcular o\n",
    "quanto vai sobrar no\n",
    "final do mes\n",
    "\"\"\"\n",
    "'''\n",
    "A ideia é calcular o\n",
    "quanto vai sobrar no\n",
    "final do mes\n",
    "'''\n",
    "print(salario - despesas)\n",
    "\n",
    "# para comentar multiplas linhas duas opções:\n",
    "#     1) selecionar linhas e teclar cmd + /\n",
    "#     2) inciar e terminar um bloco de linhas \n",
    "#        com \"\"\"(3 aspas ou 3 apostrofes)"
   ]
  },
  {
   "cell_type": "markdown",
   "metadata": {},
   "source": [
    "# Operadores Aritméticos"
   ]
  },
  {
   "cell_type": "code",
   "execution_count": 27,
   "metadata": {},
   "outputs": [
    {
     "name": "stdout",
     "output_type": "stream",
     "text": [
      "5\n",
      "-3\n",
      "10.6\n",
      "3.1333333333333333\n",
      "3.0\n",
      "256\n",
      "1\n",
      "24\n"
     ]
    }
   ],
   "source": [
    "print(2 + 3)\n",
    "print(4 - 7)\n",
    "print(2 * 5.3)\n",
    "print(9.4 / 3)\n",
    "print(9.4 // 3) # // => força o resultado a ser inteiro\n",
    "print(2 ** 8) # exponenciação\n",
    "print(10 % 3)\n",
    "\n",
    "a = 12\n",
    "b = a # o mesmo valor a é atribuido a b\n",
    "print(a + b)"
   ]
  },
  {
   "cell_type": "code",
   "execution_count": 33,
   "metadata": {},
   "outputs": [
    {
     "name": "stdout",
     "output_type": "stream",
     "text": [
      "71.18491790925822\n"
     ]
    }
   ],
   "source": [
    "# Minhas variáveis\n",
    "salario = 3450.45\n",
    "despesas = 2456.2\n",
    "\n",
    "# Resposta do desafio\n",
    "print(despesas / salario * 100)"
   ]
  },
  {
   "cell_type": "markdown",
   "metadata": {},
   "source": [
    "# Operadores Relacionais"
   ]
  },
  {
   "cell_type": "code",
   "execution_count": 34,
   "metadata": {},
   "outputs": [
    {
     "data": {
      "text/plain": [
       "False"
      ]
     },
     "execution_count": 34,
     "metadata": {},
     "output_type": "execute_result"
    }
   ],
   "source": [
    "3 > 4\n",
    "4 <= 3\n",
    "1 < 2\n",
    "3 <= 1\n",
    "3 != 2 # não igual ou diferente\n",
    "3 == 3 # comparação de igualdade\n",
    "2 == '2' # false pois '2' é string"
   ]
  },
  {
   "cell_type": "markdown",
   "metadata": {},
   "source": [
    "# Operadores de Atribuição"
   ]
  },
  {
   "cell_type": "code",
   "execution_count": 44,
   "metadata": {},
   "outputs": [
    {
     "name": "stdout",
     "output_type": "stream",
     "text": [
      "10\n",
      "15\n",
      "12\n",
      "24\n",
      "6.0\n",
      "2.0\n",
      "256.0\n",
      "1.0\n"
     ]
    }
   ],
   "source": [
    "a = 3\n",
    "a = a + 7\n",
    "print(a)\n",
    "\n",
    "a += 5\n",
    "print(a)\n",
    "\n",
    "a -= 3\n",
    "print(a)\n",
    "\n",
    "a *= 2\n",
    "print(a)\n",
    "\n",
    "a /= 4\n",
    "print(a)\n",
    "\n",
    "a %= 4 # resto da divisão\n",
    "print(a)\n",
    "\n",
    "a **= 8\n",
    "print(a)\n",
    "\n",
    "a //= 127 # divisão com resultado inteiro\n",
    "print(a)"
   ]
  },
  {
   "cell_type": "markdown",
   "metadata": {},
   "source": [
    "# Operadores Lógicos"
   ]
  },
  {
   "cell_type": "code",
   "execution_count": 55,
   "metadata": {},
   "outputs": [
    {
     "name": "stdout",
     "output_type": "stream",
     "text": [
      "True\n",
      "False\n",
      "False\n",
      "False\n",
      "True\n",
      "True\n",
      "True\n",
      "False\n",
      "False\n",
      "True\n",
      "True\n",
      "False\n",
      "False\n",
      "True\n"
     ]
    },
    {
     "data": {
      "text/plain": [
       "2"
      ]
     },
     "execution_count": 55,
     "metadata": {},
     "output_type": "execute_result"
    }
   ],
   "source": [
    "True or False\n",
    "7 != 3 and 2 > 3\n",
    "\n",
    "# Tabela verdade - and\n",
    "print(True and True)\n",
    "print(True and False)\n",
    "print(False and True)\n",
    "print(False and False)\n",
    "\n",
    "# Tabela verdade - or\n",
    "print(True or True)\n",
    "print(True or False)\n",
    "print(False or True)\n",
    "print(False or False)\n",
    "\n",
    "# Tabela verdade - xor - um ou outro\n",
    "print(True != True)\n",
    "print(True != False)\n",
    "print(False != True)\n",
    "print(False != False)\n",
    "\n",
    "# negação (unario)\n",
    "print(not True)\n",
    "print(not False)\n",
    "\n",
    "not 0 # True, pois zero é falso\n",
    "not 1 # False, qq num será verdadeiro\n",
    "not not 1 # true, volta ao original\n",
    "\n",
    "# Cuidado - Operadores bit a bit\n",
    "True & False #(and)\n",
    "False | True #(ou)\n",
    "True ^ False #(xor)\n",
    "\n",
    "# And Bit-a-bit\n",
    "# 3 = 11 - número binario\n",
    "# 2 = 10\n",
    "# _ = 10 (analise por coluna => 1 e 1 = 1 , 1 e 0 = 0)\n",
    "3 & 2 # 10 = 2\n",
    "\n",
    "# Or Bit-a-bit\n",
    "# 3 = 11 - número binario\n",
    "# 2 = 10\n",
    "# _ = 11 (analise por coluna => 1 ou 1 = 1 , 1 ou 0 = 1)\n",
    "3 | 2 # 11 = 2\n",
    "\n",
    "# XOr Bit-a-bit\n",
    "# 3 = 11 - número binario\n",
    "# 2 = 10\n",
    "# _ = 01 (analise por coluna => 1 exc 1 = 0 , 1 exc 0 = 1)\n",
    "3 ^ 2 # 01 = 1"
   ]
  },
  {
   "cell_type": "markdown",
   "metadata": {},
   "source": [
    "# Desafio Op. Logicos"
   ]
  },
  {
   "cell_type": "code",
   "execution_count": 67,
   "metadata": {},
   "outputs": [
    {
     "name": "stdout",
     "output_type": "stream",
     "text": [
      "TV50=False TV32=True Sorvete=True Saudavel=False\n"
     ]
    }
   ],
   "source": [
    "# os trabalhos - Cenarios a serem testados\n",
    "# alterar os cenarios para testar\n",
    "trabalho_terca = True\n",
    "trabalho_quinta = False\n",
    "\n",
    "\"\"\"\n",
    "- Confirmado os 2: Tv 50'+ sorvete\n",
    "- Confirmado apenas 1: tv32 + sorvete\n",
    "- Nenhum confirmado: Fica em casa\n",
    "\"\"\"\n",
    "\n",
    "TV50 = trabalho_terca and trabalho_quinta\n",
    "sorvete = trabalho_terca or trabalho_quinta\n",
    "TV32 = trabalho_terca != trabalho_quinta\n",
    "fica_casa = not sorvete\n",
    "\n",
    "print(\"TV50={} TV32={} Sorvete={} Saudavel={}\"\n",
    "     .format(TV50, TV32, sorvete, fica_casa))"
   ]
  },
  {
   "cell_type": "markdown",
   "metadata": {},
   "source": [
    "# OPERADORES UNÁRIOS"
   ]
  },
  {
   "cell_type": "code",
   "execution_count": null,
   "metadata": {},
   "outputs": [],
   "source": [
    "a = 3\n",
    "# a++ - não existe esta sintaxe no python\n",
    "a += 1 # para incrementar em substituicao a a++\n",
    "a -= 1\n",
    "-a # mostra a como um número negativo\n",
    "a = -a # torna o valor de a negativo, pois houve nova atribuição\n",
    "+a # mostra a como um numero positivo"
   ]
  },
  {
   "cell_type": "markdown",
   "metadata": {},
   "source": [
    "# Operadores Ternários"
   ]
  },
  {
   "cell_type": "code",
   "execution_count": 8,
   "metadata": {},
   "outputs": [
    {
     "name": "stdout",
     "output_type": "stream",
     "text": [
      "Hoje estou com as roupas secas.\n",
      "Hoje estou com as roupas secas.\n"
     ]
    }
   ],
   "source": [
    "esta_chuvendo = False\n",
    "# Opção 1\n",
    "print('Hoje estou com as roupas '+ ('secas.','molhadas.')[esta_chuvendo])\n",
    "# as opcoes secas ou molhadas sao determinadas através da\n",
    "# varíavel esta_chuvendo sendo TRUE a opçao mais perto de\n",
    "# [esta_chuvendo], neste caso 'molhadas.'\n",
    "\n",
    "# Opção 2\n",
    "print('Hoje estou com as roupas '+ ('molhadas.' if esta_chuvendo else 'secas.'))"
   ]
  },
  {
   "cell_type": "markdown",
   "metadata": {},
   "source": [
    "# Mais Operadores"
   ]
  },
  {
   "cell_type": "code",
   "execution_count": 12,
   "metadata": {},
   "outputs": [
    {
     "data": {
      "text/plain": [
       "True"
      ]
     },
     "execution_count": 12,
     "metadata": {},
     "output_type": "execute_result"
    }
   ],
   "source": [
    "# Operadores de Membro\n",
    "lista = [1,2,3, 'Ana', 'Carla']\n",
    "2 in lista\n",
    "'Ana'not in lista\n",
    "\n",
    "# Operador de Identidade\n",
    "x = 3\n",
    "y = x\n",
    "z = 3\n",
    "x is y # True\n",
    "y is z # True\n",
    "x is not z # False\n",
    "\n",
    "lista_a = [1, 2, 3]\n",
    "lista_b = lista_a\n",
    "lista_c = [1, 2, 3] \n",
    "# lista_c aponta para uma posição de memoria \n",
    "# diferente de lista_a\n",
    "\n",
    "lista_a is lista_b # true\n",
    "lista_b is lista_c # False\n",
    "lista_a is not lista_c # true"
   ]
  },
  {
   "cell_type": "markdown",
   "metadata": {},
   "source": [
    "# Builtins"
   ]
  },
  {
   "cell_type": "code",
   "execution_count": 19,
   "metadata": {},
   "outputs": [
    {
     "name": "stdout",
     "output_type": "stream",
     "text": [
      "3.3333333333333335\n"
     ]
    },
    {
     "data": {
      "text/plain": [
       "['ArithmeticError',\n",
       " 'AssertionError',\n",
       " 'AttributeError',\n",
       " 'BaseException',\n",
       " 'BlockingIOError',\n",
       " 'BrokenPipeError',\n",
       " 'BufferError',\n",
       " 'BytesWarning',\n",
       " 'ChildProcessError',\n",
       " 'ConnectionAbortedError',\n",
       " 'ConnectionError',\n",
       " 'ConnectionRefusedError',\n",
       " 'ConnectionResetError',\n",
       " 'DeprecationWarning',\n",
       " 'EOFError',\n",
       " 'Ellipsis',\n",
       " 'EnvironmentError',\n",
       " 'Exception',\n",
       " 'False',\n",
       " 'FileExistsError',\n",
       " 'FileNotFoundError',\n",
       " 'FloatingPointError',\n",
       " 'FutureWarning',\n",
       " 'GeneratorExit',\n",
       " 'IOError',\n",
       " 'ImportError',\n",
       " 'ImportWarning',\n",
       " 'IndentationError',\n",
       " 'IndexError',\n",
       " 'InterruptedError',\n",
       " 'IsADirectoryError',\n",
       " 'KeyError',\n",
       " 'KeyboardInterrupt',\n",
       " 'LookupError',\n",
       " 'MemoryError',\n",
       " 'ModuleNotFoundError',\n",
       " 'NameError',\n",
       " 'None',\n",
       " 'NotADirectoryError',\n",
       " 'NotImplemented',\n",
       " 'NotImplementedError',\n",
       " 'OSError',\n",
       " 'OverflowError',\n",
       " 'PendingDeprecationWarning',\n",
       " 'PermissionError',\n",
       " 'ProcessLookupError',\n",
       " 'RecursionError',\n",
       " 'ReferenceError',\n",
       " 'ResourceWarning',\n",
       " 'RuntimeError',\n",
       " 'RuntimeWarning',\n",
       " 'StopAsyncIteration',\n",
       " 'StopIteration',\n",
       " 'SyntaxError',\n",
       " 'SyntaxWarning',\n",
       " 'SystemError',\n",
       " 'SystemExit',\n",
       " 'TabError',\n",
       " 'TimeoutError',\n",
       " 'True',\n",
       " 'TypeError',\n",
       " 'UnboundLocalError',\n",
       " 'UnicodeDecodeError',\n",
       " 'UnicodeEncodeError',\n",
       " 'UnicodeError',\n",
       " 'UnicodeTranslateError',\n",
       " 'UnicodeWarning',\n",
       " 'UserWarning',\n",
       " 'ValueError',\n",
       " 'Warning',\n",
       " 'ZeroDivisionError',\n",
       " '__IPYTHON__',\n",
       " '__build_class__',\n",
       " '__debug__',\n",
       " '__doc__',\n",
       " '__import__',\n",
       " '__loader__',\n",
       " '__name__',\n",
       " '__package__',\n",
       " '__spec__',\n",
       " 'abs',\n",
       " 'all',\n",
       " 'any',\n",
       " 'ascii',\n",
       " 'bin',\n",
       " 'bool',\n",
       " 'breakpoint',\n",
       " 'bytearray',\n",
       " 'bytes',\n",
       " 'callable',\n",
       " 'chr',\n",
       " 'classmethod',\n",
       " 'compile',\n",
       " 'complex',\n",
       " 'copyright',\n",
       " 'credits',\n",
       " 'delattr',\n",
       " 'dict',\n",
       " 'dir',\n",
       " 'display',\n",
       " 'divmod',\n",
       " 'enumerate',\n",
       " 'eval',\n",
       " 'exec',\n",
       " 'filter',\n",
       " 'float',\n",
       " 'format',\n",
       " 'frozenset',\n",
       " 'get_ipython',\n",
       " 'getattr',\n",
       " 'globals',\n",
       " 'hasattr',\n",
       " 'hash',\n",
       " 'help',\n",
       " 'hex',\n",
       " 'id',\n",
       " 'input',\n",
       " 'int',\n",
       " 'isinstance',\n",
       " 'issubclass',\n",
       " 'iter',\n",
       " 'len',\n",
       " 'license',\n",
       " 'list',\n",
       " 'locals',\n",
       " 'map',\n",
       " 'max',\n",
       " 'memoryview',\n",
       " 'min',\n",
       " 'next',\n",
       " 'object',\n",
       " 'oct',\n",
       " 'open',\n",
       " 'ord',\n",
       " 'pow',\n",
       " 'print',\n",
       " 'property',\n",
       " 'range',\n",
       " 'repr',\n",
       " 'reversed',\n",
       " 'round',\n",
       " 'set',\n",
       " 'setattr',\n",
       " 'slice',\n",
       " 'sorted',\n",
       " 'staticmethod',\n",
       " 'str',\n",
       " 'sum',\n",
       " 'super',\n",
       " 'tuple',\n",
       " 'type',\n",
       " 'vars',\n",
       " 'zip']"
      ]
     },
     "execution_count": 19,
     "metadata": {},
     "output_type": "execute_result"
    }
   ],
   "source": [
    "# type()\n",
    "type(1) # int\n",
    "__builtins__.type('FalaGalera') # string\n",
    "__builtins__.print(10/3) # 3.33333\n",
    "\n",
    "# __builtins__.help(__builtins__.dir)\n",
    "# dir()\n",
    "dir(__builtins__)"
   ]
  },
  {
   "cell_type": "markdown",
   "metadata": {},
   "source": [
    "# Conversão de Tipos"
   ]
  },
  {
   "cell_type": "code",
   "execution_count": 23,
   "metadata": {
    "scrolled": true
   },
   "outputs": [
    {
     "name": "stdout",
     "output_type": "stream",
     "text": [
      "<class 'int'>\n",
      "<class 'str'>\n",
      "5\n",
      "23\n",
      "5.4\n"
     ]
    }
   ],
   "source": [
    "2 + 3 # 5\n",
    "'2'+ '3' # 23\n",
    "# 2 = '3' - ERRO - tipos diferentes\n",
    "# print(2 + '3') - ERRO - tipos diferentes\n",
    "\n",
    "a = 2\n",
    "b = '3'\n",
    "print(type(a)) # int\n",
    "print(type(b)) # str\n",
    "\n",
    "print(a + int(b)) # 5 - int(b) converte b para int\n",
    "print(str(a) + b) # 23 - str(a) converte a para str concatenado com b\n",
    "print(a + float('3.4')) # 5.4 - 3.4 é convertido"
   ]
  },
  {
   "cell_type": "markdown",
   "metadata": {},
   "source": [
    "# Coerção Automática"
   ]
  },
  {
   "cell_type": "code",
   "execution_count": 26,
   "metadata": {},
   "outputs": [
    {
     "data": {
      "text/plain": [
       "3"
      ]
     },
     "execution_count": 26,
     "metadata": {},
     "output_type": "execute_result"
    }
   ],
   "source": [
    "10 / 2 # 5.0 (float)\n",
    "10 // 3 # 3 (int)\n",
    "10 // 3.3 # 3 (float)  - por causa 3.3\n",
    "2 + True # 3 - assume True como sendo 1\n",
    "2 + False # 2 - assume False como sendo 0\n"
   ]
  },
  {
   "cell_type": "markdown",
   "metadata": {},
   "source": [
    "# Tipos Númericos"
   ]
  },
  {
   "cell_type": "code",
   "execution_count": 34,
   "metadata": {},
   "outputs": [
    {
     "data": {
      "text/plain": [
       "2"
      ]
     },
     "execution_count": 34,
     "metadata": {},
     "output_type": "execute_result"
    }
   ],
   "source": [
    "dir(int)\n",
    "dir(float)\n",
    "# mostrará as funcionalidades internas\n",
    "\n",
    "a = 5\n",
    "b = 2.5\n",
    "a / b # float\n",
    "a + b\n",
    "a * b\n",
    "\n",
    "type(a) # int\n",
    "type(b) # float\n",
    "type(a-b) # float\n",
    "\n",
    "b.is_integer() # False\n",
    "5.0.is_integer() # True\n",
    "\n",
    "dir(int)\n",
    "int.__add__(2, 3) # mesmo que 2 + 3\n",
    "\n",
    "(-2).__abs__() # mesmo que abs(-2)"
   ]
  },
  {
   "cell_type": "code",
   "execution_count": 40,
   "metadata": {},
   "outputs": [
    {
     "data": {
      "text/plain": [
       "Decimal('3.300')"
      ]
     },
     "execution_count": 40,
     "metadata": {},
     "output_type": "execute_result"
    }
   ],
   "source": [
    "1.1 + 2.2 # 3.3000000000000003\n",
    "from decimal import Decimal, getcontext\n",
    "Decimal(1) / Decimal(7) # Decimal('0.1428571428571428571428571429')\n",
    "\n",
    "getcontext().prec = 4 # precisão de 4 casas\n",
    "Decimal(1) / Decimal(7) # Decimal('0.1429')\n",
    "Decimal.max(Decimal(1), Decimal(7)) # Decimal('7')\n",
    "dir(Decimal)\n",
    "\n",
    "Decimal(1.1) + Decimal(2.2) # Decimal('3.300')"
   ]
  },
  {
   "cell_type": "markdown",
   "metadata": {},
   "source": [
    "# Tipo String"
   ]
  },
  {
   "cell_type": "code",
   "execution_count": 49,
   "metadata": {},
   "outputs": [
    {
     "name": "stdout",
     "output_type": "stream",
     "text": [
      "Texto com multiplas\n",
      "... linhas\n",
      "Texto com múltiplas\n",
      "... linhas\n"
     ]
    },
    {
     "data": {
      "text/plain": [
       "'Texto com múltiplas\\n... linhas'"
      ]
     },
     "execution_count": 49,
     "metadata": {},
     "output_type": "execute_result"
    }
   ],
   "source": [
    "dir(str)\n",
    "\n",
    "nome = 'Saulo Pedro'\n",
    "nome # 'Saulo Pedro'\n",
    "nome[0] # 'S' - uma string tem seus caracteres\n",
    "# indexados começando pelo indice 0 (zero)\n",
    "\n",
    "# nome[0] = 'P' - ERRO pois não é possivel alterar\n",
    "# o valor de uma string, o que se pode fazer é alterar\n",
    "# o valor da variável\n",
    "\n",
    "# 'marca d'água' - ERRO\n",
    "\"Dias D'Avila\" == 'Dias D\\'Avila'\n",
    "\"Teste \\\" funcional\"\n",
    "texto = 'Texto entre apostrofes pode ter \"aspas\"'\n",
    "\n",
    "doc = \"\"\"Texto com múltiplas\n",
    "... linhas\"\"\"\n",
    "doc\n",
    "print('Texto com multiplas\\n... linhas')\n",
    "print(doc)\n",
    "\n",
    "doc2 = '''Texto com múltiplas\n",
    "... linhas'''\n",
    "doc2"
   ]
  },
  {
   "cell_type": "code",
   "execution_count": 65,
   "metadata": {},
   "outputs": [
    {
     "data": {
      "text/plain": [
       "'aluaP anA'"
      ]
     },
     "execution_count": 65,
     "metadata": {},
     "output_type": "execute_result"
    }
   ],
   "source": [
    "nome = 'Ana Paula'\n",
    "nome[0] # 'A'\n",
    "nome[6] # 'u'\n",
    "nome[-3] # 'u' - começa da direita para esquerda\n",
    "# sendo o -1 o último carcter da string\n",
    "nome[4:] # Paula - mostra a partir do indice 4\n",
    "nome[-5:] # Paula - mostra da direita p/esq do indice -5 adiante\n",
    "nome[:3] # Mostra do inicio até o indice 3(exclusive)\n",
    "nome[2:5] # 'a P' - mostra do 2 até o 5(exclusive)\n",
    "\n",
    "numeros = '1234567890'\n",
    "numeros\n",
    "numeros[::] # mostra do inicio até o final\n",
    "numeros[::2] # '13579' - mostra do inicio ao final de dois em dois\n",
    "numeros[1::2] # '24680' - de 2 em dois a partir do indice 1\n",
    "numeros[::-1] # '0987654321' - do inicio ao fim mas da direita p/ esquerda\n",
    "numeros[::-2] # '08642' - da direita p/ esq de 2 em 2\n",
    " \n",
    "nome[::-1] # 'aluaP anA' - espelhando nome"
   ]
  },
  {
   "cell_type": "code",
   "execution_count": 73,
   "metadata": {},
   "outputs": [
    {
     "data": {
      "text/plain": [
       "['Python é uma linguag', 'm ', 'xc', 'l', 'nt', '']"
      ]
     },
     "execution_count": 73,
     "metadata": {},
     "output_type": "execute_result"
    }
   ],
   "source": [
    "frase = 'Python é uma linguagem excelente'\n",
    "'py' not in frase # True\n",
    "'ing' in frase # True\n",
    "len(frase) # 32\n",
    "frase.lower() # 'python é uma linguagem excelente'\n",
    "# não modifica a variável frase\n",
    "frase.upper() # 'PYTHON É UMA LINGUAGEM EXCELENTE'\n",
    "frase.split() # ['Python', 'é', 'uma', 'linguagem', 'excelente']\n",
    "frase.split('e') # ['Python é uma linguag', 'm ', 'xc', 'l', 'nt', '']\n",
    "# quebra quando acha, neste caso, a letra 'e'\n"
   ]
  },
  {
   "cell_type": "code",
   "execution_count": 78,
   "metadata": {},
   "outputs": [
    {
     "name": "stdout",
     "output_type": "stream",
     "text": [
      "Help on built-in function hash in module builtins:\n",
      "\n",
      "hash(obj, /)\n",
      "    Return the hash value for the given object.\n",
      "    \n",
      "    Two objects that compare equal must also have the same hash value, but the\n",
      "    reverse is not necessarily true.\n",
      "\n"
     ]
    }
   ],
   "source": [
    "a = '123'\n",
    "b = ' de Oliveira 4'\n",
    "a + b # '123 de Oliveira 4'\n",
    "a.__add__(b) # '123 de Oliveira 4'\n",
    "str.__add__(a,b) # '123 de Oliveira 4'\n",
    "\n",
    "dir(str) # mostra as funcoes para str\n",
    "\n",
    "help(hash)"
   ]
  },
  {
   "cell_type": "markdown",
   "metadata": {},
   "source": [
    "# Listas"
   ]
  },
  {
   "cell_type": "code",
   "execution_count": 87,
   "metadata": {},
   "outputs": [
    {
     "data": {
      "text/plain": [
       "[1, 5, [1, 2, 3]]"
      ]
     },
     "execution_count": 87,
     "metadata": {},
     "output_type": "execute_result"
    }
   ],
   "source": [
    "lista = [] # lista vazia\n",
    "type(lista) # list\n",
    "\n",
    "# help(list)\n",
    "\n",
    "len(lista) # 0\n",
    "lista.append(1)\n",
    "lista.append(5)\n",
    "lista.append([1,2,3]) # [1, 5, [1, 2, 3]] - uma lista dentro de outra\n",
    "lista # [1, 5]\n",
    "\n",
    "nova_lista = [1,5, 'Ana', 'Bia']\n",
    "nova_lista.remove(5)\n",
    "nova_lista # [1, 'Ana', 'Bia']\n",
    "nova_lista.reverse()\n",
    "nova_lista # ['Bia', 'Ana', 1] - como lista é mutável\n",
    "## a funcao reverse realmente altera a lista\n"
   ]
  },
  {
   "cell_type": "code",
   "execution_count": 91,
   "metadata": {},
   "outputs": [
    {
     "data": {
      "text/plain": [
       "3.1415"
      ]
     },
     "execution_count": 91,
     "metadata": {},
     "output_type": "execute_result"
    }
   ],
   "source": [
    "lista = [1, 5, 'Rebeca', 'Guilherme', 3.1415]\n",
    "lista.index('Guilherme') # 3 - lista é indexada\n",
    "# lista.index(42) - ERRO pois não existe elemento de indice 42\n",
    "lista[2] # 'Rebeca' - elemento indice 2\n",
    "1 in lista # True\n",
    "lista[-1] # 3.1415 - da direita p/esquerda"
   ]
  },
  {
   "cell_type": "code",
   "execution_count": 97,
   "metadata": {},
   "outputs": [
    {
     "data": {
      "text/plain": [
       "['Ana']"
      ]
     },
     "execution_count": 97,
     "metadata": {},
     "output_type": "execute_result"
    }
   ],
   "source": [
    "lista = ['Ana', 'Lia', 'Rui', 'Paulo', 'Dani']\n",
    "lista[1:3] # ['Lia', 'Rui'] - não mostra o de indice 3\n",
    "lista[1:-1] # ['Lia', 'Rui', 'Paulo'] - não mostra o de indice -1(último)\n",
    "lista[1:] # ['Lia', 'Rui', 'Paulo', 'Dani'] - de indice 1 até o final\n",
    "lista[::2] # ['Ana', 'Rui', 'Dani'] de dois em dois\n",
    "del lista[2] # ['Ana', 'Lia', 'Paulo', 'Dani'] - exluiu elemento de indice 2\n",
    "del lista[1:] # ['Ana'] excluiu de indice 1 até o final\n",
    "lista\n"
   ]
  },
  {
   "cell_type": "markdown",
   "metadata": {},
   "source": [
    "# Tupla"
   ]
  },
  {
   "cell_type": "code",
   "execution_count": 105,
   "metadata": {},
   "outputs": [
    {
     "data": {
      "text/plain": [
       "4"
      ]
     },
     "execution_count": 105,
     "metadata": {},
     "output_type": "execute_result"
    }
   ],
   "source": [
    "tupla = tuple()\n",
    "tupla = () # tuplas podem ser criadas com um par de parenteses\n",
    "# assim como listas podem ser criadas com par de colchetes\n",
    "type(tupla)\n",
    "# help(tuple)\n",
    "# tupla('um') - cria uma string e não uma tupla\n",
    "tupla = ('um',) # é preciso colocar uma vírgula \n",
    "# para indicar que é uma tupla e não somente uma string\n",
    "tupla[0] # 'um'\n",
    "# tupla[0] = 'nome' - ERRO - tupla é imutável\n",
    "cores = ('verde', 'amarelo', 'azul', 'branco')\n",
    "cores[0] # 'verde'\n",
    "cores[-1] # 'branco'\n",
    "cores[1:] # todos a partir de indice 1\n",
    "cores.index('amarelo') # 1\n",
    "cores.count('azul') # só um elemnto com valor azul\n",
    "len(cores) # 4"
   ]
  },
  {
   "cell_type": "markdown",
   "metadata": {},
   "source": [
    "# Dicionário"
   ]
  },
  {
   "cell_type": "code",
   "execution_count": 115,
   "metadata": {},
   "outputs": [],
   "source": [
    "pessoa = {'nome': 'Prof(a). Ana', 'idade': 38, 'cursos': ['Inglês', 'Português']}\n",
    "type(pessoa) # dict\n",
    "dir(dict)\n",
    "len(pessoa) # 3\n",
    "\n",
    "pessoa['nome'] # 'Prof(a). Ana'\n",
    "pessoa['cursos'][1] # 'Português'\n",
    "pessoa.keys() # dict_keys(['nome', 'idade', 'cursos'])\n",
    "pessoa.values() # dict_values(['Prof(a). Ana', 38, ['Inglês', 'Português']])\n",
    "pessoa.items() # dict_items([('nome', 'Prof(a). Ana'), ('idade', 38), ('cursos', ['Inglês', 'Português'])])\n",
    "pessoa.get('idade') # 38\n",
    "pessoa.get('tags') # vazio\n",
    "pessoa.get('tags', []) # como não encontra volta valor default neste caso [] - vazio\n"
   ]
  },
  {
   "cell_type": "code",
   "execution_count": 124,
   "metadata": {},
   "outputs": [
    {
     "data": {
      "text/plain": [
       "{}"
      ]
     },
     "execution_count": 124,
     "metadata": {},
     "output_type": "execute_result"
    }
   ],
   "source": [
    "pessoa = {'nome': 'Prof. Alberto', 'idade': 43, 'cursos': ['React', 'Python']}\n",
    "pessoa['idade'] = 44\n",
    "pessoa['cursos'].append('Angular')\n",
    "pessoa.pop('idade') # pop() Lê e extrai o valor do dicionario\n",
    "pessoa.update({'idade': 40, 'sexo': 'M'})\n",
    "del pessoa ['cursos']\n",
    "pessoa.clear() - limpa totalmente o dicionario\n",
    "pessoa"
   ]
  },
  {
   "cell_type": "markdown",
   "metadata": {},
   "source": [
    "#  Conjuntos - Set"
   ]
  },
  {
   "cell_type": "code",
   "execution_count": 136,
   "metadata": {},
   "outputs": [
    {
     "name": "stdout",
     "output_type": "stream",
     "text": [
      "{'c', 'r', 'o', 'd', '3'}\n",
      "True True\n"
     ]
    },
    {
     "data": {
      "text/plain": [
       "{1, 3}"
      ]
     },
     "execution_count": 136,
     "metadata": {},
     "output_type": "execute_result"
    }
   ],
   "source": [
    "a = {1,2,3}\n",
    "type(a) # set\n",
    "# a[0] - Erro - não é indexado\n",
    "a = set('coddddd3r') # {'c', 'r', 'o', 'd', '3'} \n",
    "# ordem não garantida e não aceita repetição\n",
    "print(a)\n",
    "print('3'in a, 4 not in a) # true , true\n",
    "{1,2,3}=={3,2,1,3} # true, pois todos os valores do 1o. estão contidos no 2o.\n",
    "\n",
    "#operacoes\n",
    "c1 = {1,2}\n",
    "c2 = {2,3}\n",
    "c1.union(c2) # {1, 2, 3}\n",
    "c1.intersection(c2) # {2}\n",
    "c1.update(c2) # {1, 2, 3}\n",
    "c1\n",
    "c2 <= c1 # c2 é sub-conjunto de c1? seta apontando para c2 - true\n",
    "c1 >= c2 # c1 é superconjunto de c2 - seta apontando para c2\n",
    "\n",
    "{1,2,3} - {2} # {1, 3}\n",
    "c1 -= {2} # {1, 3}\n",
    "c1"
   ]
  },
  {
   "cell_type": "markdown",
   "metadata": {},
   "source": [
    "# Interpolação"
   ]
  },
  {
   "cell_type": "code",
   "execution_count": 144,
   "metadata": {},
   "outputs": [
    {
     "name": "stdout",
     "output_type": "stream",
     "text": [
      "Nome: Ana Idade: 30\n",
      "Nome: Ana Idade: 30\n",
      "Nome: Ana Idade: 30\n",
      "Nome: Ana Idade: 30 257\n",
      "Nome: Ana Idade: 30\n"
     ]
    }
   ],
   "source": [
    "from string import Template\n",
    "\n",
    "nome, idade = 'Ana', 30\n",
    "\n",
    "# 1a. opção\n",
    "print('Nome: %s Idade: %d' % (nome,idade) ) # Nome: Ana Idade: 30\n",
    "# %s indica que uma variável string será informada para ser substituida por %s\n",
    "# %d indica que uma variável inteiro será informada para ser substituida por %d\n",
    "# pode também ser usado %f (float) ou %.2f (para duas casas decimais)\n",
    "# %r para valor booleano\n",
    "\n",
    "# 2a. opção\n",
    "print('Nome: {0} Idade: {1}'.format(nome, idade))\n",
    "\n",
    "# 3a. opção\n",
    "print(f'Nome: {nome} Idade: {idade}')\n",
    "print(f'Nome: {nome} Idade: {idade} {2 ** 8 + 1}') # expressões dentro da interpolação\n",
    "\n",
    "# 4a. opção\n",
    "s = Template('Nome: $name Idade: $age')\n",
    "print(s.substitute(name=nome, age=idade))"
   ]
  }
 ],
 "metadata": {
  "kernelspec": {
   "display_name": "Python 3",
   "language": "python",
   "name": "python3"
  },
  "language_info": {
   "codemirror_mode": {
    "name": "ipython",
    "version": 3
   },
   "file_extension": ".py",
   "mimetype": "text/x-python",
   "name": "python",
   "nbconvert_exporter": "python",
   "pygments_lexer": "ipython3",
   "version": "3.8.5"
  }
 },
 "nbformat": 4,
 "nbformat_minor": 4
}
