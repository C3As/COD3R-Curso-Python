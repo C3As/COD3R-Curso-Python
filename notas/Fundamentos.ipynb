{
 "cells": [
  {
   "cell_type": "markdown",
   "metadata": {},
   "source": [
    "# Primeiros Exemplos"
   ]
  },
  {
   "cell_type": "code",
   "execution_count": 4,
   "metadata": {},
   "outputs": [
    {
     "name": "stdout",
     "output_type": "stream",
     "text": [
      "primeiro programa\n",
      "Help on built-in function print in module builtins:\n",
      "\n",
      "print(...)\n",
      "    print(value, ..., sep=' ', end='\\n', file=sys.stdout, flush=False)\n",
      "    \n",
      "    Prints the values to a stream, or to sys.stdout by default.\n",
      "    Optional keyword arguments:\n",
      "    file:  a file-like object (stream); defaults to the current sys.stdout.\n",
      "    sep:   string inserted between values, default a space.\n",
      "    end:   string appended after the last value, default a newline.\n",
      "    flush: whether to forcibly flush the stream.\n",
      "\n"
     ]
    }
   ],
   "source": [
    "print('primeiro programa')\n",
    "1 \\\n",
    "+ 2\n",
    "\n",
    "help(print)"
   ]
  },
  {
   "cell_type": "markdown",
   "metadata": {},
   "source": [
    "No caso acima a quebra de linha da operacao 1 + 2, é possível, inserindo para isso a barra invertida."
   ]
  },
  {
   "cell_type": "code",
   "execution_count": 6,
   "metadata": {},
   "outputs": [
    {
     "data": {
      "text/plain": [
       "15"
      ]
     },
     "execution_count": 6,
     "metadata": {},
     "output_type": "execute_result"
    }
   ],
   "source": [
    "1 + 2 + 3\n",
    "4 + 5 + 6"
   ]
  },
  {
   "cell_type": "markdown",
   "metadata": {},
   "source": [
    "No caso acima para poder mostrar o resultado das duas operacoes é necessários usar print"
   ]
  },
  {
   "cell_type": "code",
   "execution_count": 7,
   "metadata": {},
   "outputs": [
    {
     "name": "stdout",
     "output_type": "stream",
     "text": [
      "6\n",
      "15\n"
     ]
    }
   ],
   "source": [
    "print(1 + 2 + 3)\n",
    "print(4 + 5 + 6)"
   ]
  },
  {
   "cell_type": "markdown",
   "metadata": {},
   "source": [
    "# Tipos Básicos"
   ]
  },
  {
   "cell_type": "code",
   "execution_count": 18,
   "metadata": {},
   "outputs": [
    {
     "name": "stdout",
     "output_type": "stream",
     "text": [
      "True\n",
      "False\n",
      "2.2\n",
      "Aqui eu falo no meu idioma\n",
      "Tb funciona\n",
      "Você é muito muito muito legal\n",
      "[1, 2, 3]\n",
      "{'nome': 'Pedro', 'idade': 22}\n",
      "None\n"
     ]
    }
   ],
   "source": [
    "print(True) # tipo booleano\n",
    "print(False)# tipo booleano\n",
    "print(1.2 + 1) # tipos real e int\n",
    "print(\"Aqui eu falo no meu idioma\") # tipo string\n",
    "print(\"Tb funciona\")\n",
    "print('Você é '+ 3 * 'muito '+ 'legal')\n",
    "# print(3 + '3') => ambiguidade => int + string\n",
    "print([1, 2, 3]) # tipo lista\n",
    "print({'nome': 'Pedro', 'idade': 22}) # tipo dicionario\n",
    "print(None) # tipo ausencia de valor"
   ]
  },
  {
   "cell_type": "markdown",
   "metadata": {},
   "source": [
    "# Variáveis"
   ]
  },
  {
   "cell_type": "code",
   "execution_count": 21,
   "metadata": {},
   "outputs": [
    {
     "name": "stdout",
     "output_type": "stream",
     "text": [
      "15.2\n",
      "Agora sou uma string\n"
     ]
    },
    {
     "data": {
      "text/plain": [
       "5.2"
      ]
     },
     "execution_count": 21,
     "metadata": {},
     "output_type": "execute_result"
    }
   ],
   "source": [
    "a = 10\n",
    "b = 5.2\n",
    "\n",
    "print(a + b)\n",
    "\n",
    "a = 'Agora sou uma string' # trocando tipo da variável \"a\"\"\n",
    "print(a)\n",
    "a\n",
    "b"
   ]
  },
  {
   "cell_type": "markdown",
   "metadata": {},
   "source": [
    "# Comentários"
   ]
  },
  {
   "cell_type": "code",
   "execution_count": 23,
   "metadata": {},
   "outputs": [
    {
     "name": "stdout",
     "output_type": "stream",
     "text": [
      "994.25\n"
     ]
    }
   ],
   "source": [
    "# Minhas variáveis\n",
    "salario = 3450.45\n",
    "despesas = 2456.2\n",
    "\n",
    "\"\"\"\n",
    "A ideia é calcular o\n",
    "quanto vai sobrar no\n",
    "final do mes\n",
    "\"\"\"\n",
    "'''\n",
    "A ideia é calcular o\n",
    "quanto vai sobrar no\n",
    "final do mes\n",
    "'''\n",
    "print(salario - despesas)\n",
    "\n",
    "# para comentar multiplas linhas duas opções:\n",
    "#     1) selecionar linhas e teclar cmd + /\n",
    "#     2) inciar e terminar um bloco de linhas \n",
    "#        com \"\"\"(3 aspas ou 3 apostrofes)"
   ]
  },
  {
   "cell_type": "markdown",
   "metadata": {},
   "source": [
    "# Operadores Aritméticos"
   ]
  },
  {
   "cell_type": "code",
   "execution_count": 27,
   "metadata": {},
   "outputs": [
    {
     "name": "stdout",
     "output_type": "stream",
     "text": [
      "5\n",
      "-3\n",
      "10.6\n",
      "3.1333333333333333\n",
      "3.0\n",
      "256\n",
      "1\n",
      "24\n"
     ]
    }
   ],
   "source": [
    "print(2 + 3)\n",
    "print(4 - 7)\n",
    "print(2 * 5.3)\n",
    "print(9.4 / 3)\n",
    "print(9.4 // 3) # // => força o resultado a ser inteiro\n",
    "print(2 ** 8) # exponenciação\n",
    "print(10 % 3)\n",
    "\n",
    "a = 12\n",
    "b = a # o mesmo valor a é atribuido a b\n",
    "print(a + b)"
   ]
  },
  {
   "cell_type": "code",
   "execution_count": 33,
   "metadata": {},
   "outputs": [
    {
     "name": "stdout",
     "output_type": "stream",
     "text": [
      "71.18491790925822\n"
     ]
    }
   ],
   "source": [
    "# Minhas variáveis\n",
    "salario = 3450.45\n",
    "despesas = 2456.2\n",
    "\n",
    "# Resposta do desafio\n",
    "print(despesas / salario * 100)"
   ]
  },
  {
   "cell_type": "markdown",
   "metadata": {},
   "source": [
    "# Operadores Relacionais"
   ]
  },
  {
   "cell_type": "code",
   "execution_count": 34,
   "metadata": {},
   "outputs": [
    {
     "data": {
      "text/plain": [
       "False"
      ]
     },
     "execution_count": 34,
     "metadata": {},
     "output_type": "execute_result"
    }
   ],
   "source": [
    "3 > 4\n",
    "4 <= 3\n",
    "1 < 2\n",
    "3 <= 1\n",
    "3 != 2 # não igual ou diferente\n",
    "3 == 3 # comparação de igualdade\n",
    "2 == '2' # false pois '2' é string"
   ]
  },
  {
   "cell_type": "markdown",
   "metadata": {},
   "source": [
    "# Operadores de Atribuição"
   ]
  },
  {
   "cell_type": "code",
   "execution_count": 44,
   "metadata": {},
   "outputs": [
    {
     "name": "stdout",
     "output_type": "stream",
     "text": [
      "10\n",
      "15\n",
      "12\n",
      "24\n",
      "6.0\n",
      "2.0\n",
      "256.0\n",
      "1.0\n"
     ]
    }
   ],
   "source": [
    "a = 3\n",
    "a = a + 7\n",
    "print(a)\n",
    "\n",
    "a += 5\n",
    "print(a)\n",
    "\n",
    "a -= 3\n",
    "print(a)\n",
    "\n",
    "a *= 2\n",
    "print(a)\n",
    "\n",
    "a /= 4\n",
    "print(a)\n",
    "\n",
    "a %= 4 # resto da divisão\n",
    "print(a)\n",
    "\n",
    "a **= 8\n",
    "print(a)\n",
    "\n",
    "a //= 127 # divisão com resultado inteiro\n",
    "print(a)"
   ]
  },
  {
   "cell_type": "markdown",
   "metadata": {},
   "source": [
    "# Operadores Lógicos"
   ]
  },
  {
   "cell_type": "code",
   "execution_count": 55,
   "metadata": {},
   "outputs": [
    {
     "name": "stdout",
     "output_type": "stream",
     "text": [
      "True\n",
      "False\n",
      "False\n",
      "False\n",
      "True\n",
      "True\n",
      "True\n",
      "False\n",
      "False\n",
      "True\n",
      "True\n",
      "False\n",
      "False\n",
      "True\n"
     ]
    },
    {
     "data": {
      "text/plain": [
       "2"
      ]
     },
     "execution_count": 55,
     "metadata": {},
     "output_type": "execute_result"
    }
   ],
   "source": [
    "True or False\n",
    "7 != 3 and 2 > 3\n",
    "\n",
    "# Tabela verdade - and\n",
    "print(True and True)\n",
    "print(True and False)\n",
    "print(False and True)\n",
    "print(False and False)\n",
    "\n",
    "# Tabela verdade - or\n",
    "print(True or True)\n",
    "print(True or False)\n",
    "print(False or True)\n",
    "print(False or False)\n",
    "\n",
    "# Tabela verdade - xor - um ou outro\n",
    "print(True != True)\n",
    "print(True != False)\n",
    "print(False != True)\n",
    "print(False != False)\n",
    "\n",
    "# negação (unario)\n",
    "print(not True)\n",
    "print(not False)\n",
    "\n",
    "not 0 # True, pois zero é falso\n",
    "not 1 # False, qq num será verdadeiro\n",
    "not not 1 # true, volta ao original\n",
    "\n",
    "# Cuidado - Operadores bit a bit\n",
    "True & False #(and)\n",
    "False | True #(ou)\n",
    "True ^ False #(xor)\n",
    "\n",
    "# And Bit-a-bit\n",
    "# 3 = 11 - número binario\n",
    "# 2 = 10\n",
    "# _ = 10 (analise por coluna => 1 e 1 = 1 , 1 e 0 = 0)\n",
    "3 & 2 # 10 = 2\n",
    "\n",
    "# Or Bit-a-bit\n",
    "# 3 = 11 - número binario\n",
    "# 2 = 10\n",
    "# _ = 11 (analise por coluna => 1 ou 1 = 1 , 1 ou 0 = 1)\n",
    "3 | 2 # 11 = 2\n",
    "\n",
    "# XOr Bit-a-bit\n",
    "# 3 = 11 - número binario\n",
    "# 2 = 10\n",
    "# _ = 01 (analise por coluna => 1 exc 1 = 0 , 1 exc 0 = 1)\n",
    "3 ^ 2 # 01 = 1"
   ]
  },
  {
   "cell_type": "markdown",
   "metadata": {},
   "source": [
    "# Desafio Op. Logicos"
   ]
  },
  {
   "cell_type": "code",
   "execution_count": 67,
   "metadata": {},
   "outputs": [
    {
     "name": "stdout",
     "output_type": "stream",
     "text": [
      "TV50=False TV32=True Sorvete=True Saudavel=False\n"
     ]
    }
   ],
   "source": [
    "# os trabalhos - Cenarios a serem testados\n",
    "# alterar os cenarios para testar\n",
    "trabalho_terca = True\n",
    "trabalho_quinta = False\n",
    "\n",
    "\"\"\"\n",
    "- Confirmado os 2: Tv 50'+ sorvete\n",
    "- Confirmado apenas 1: tv32 + sorvete\n",
    "- Nenhum confirmado: Fica em casa\n",
    "\"\"\"\n",
    "\n",
    "TV50 = trabalho_terca and trabalho_quinta\n",
    "sorvete = trabalho_terca or trabalho_quinta\n",
    "TV32 = trabalho_terca != trabalho_quinta\n",
    "fica_casa = not sorvete\n",
    "\n",
    "print(\"TV50={} TV32={} Sorvete={} Saudavel={}\"\n",
    "     .format(TV50, TV32, sorvete, fica_casa))"
   ]
  },
  {
   "cell_type": "markdown",
   "metadata": {},
   "source": [
    "# OPERADORES UNÁRIOS"
   ]
  },
  {
   "cell_type": "code",
   "execution_count": null,
   "metadata": {},
   "outputs": [],
   "source": [
    "a = 3\n",
    "# a++ - não existe esta sintaxe no python\n",
    "a += 1 # para incrementar em substituicao a a++\n",
    "a -= 1\n",
    "-a # mostra a como um número negativo\n",
    "a = -a # torna o valor de a negativo, pois houve nova atribuição\n",
    "+a # mostra a como um numero positivo"
   ]
  },
  {
   "cell_type": "markdown",
   "metadata": {},
   "source": [
    "# Operadores Ternários"
   ]
  },
  {
   "cell_type": "code",
   "execution_count": 8,
   "metadata": {},
   "outputs": [
    {
     "name": "stdout",
     "output_type": "stream",
     "text": [
      "Hoje estou com as roupas secas.\n",
      "Hoje estou com as roupas secas.\n"
     ]
    }
   ],
   "source": [
    "esta_chuvendo = False\n",
    "# Opção 1\n",
    "print('Hoje estou com as roupas '+ ('secas.','molhadas.')[esta_chuvendo])\n",
    "# as opcoes secas ou molhadas sao determinadas através da\n",
    "# varíavel esta_chuvendo sendo TRUE a opçao mais perto de\n",
    "# [esta_chuvendo], neste caso 'molhadas.'\n",
    "\n",
    "# Opção 2\n",
    "print('Hoje estou com as roupas '+ ('molhadas.' if esta_chuvendo else 'secas.'))"
   ]
  },
  {
   "cell_type": "markdown",
   "metadata": {},
   "source": [
    "# Mais Operadores"
   ]
  },
  {
   "cell_type": "code",
   "execution_count": 12,
   "metadata": {},
   "outputs": [
    {
     "data": {
      "text/plain": [
       "True"
      ]
     },
     "execution_count": 12,
     "metadata": {},
     "output_type": "execute_result"
    }
   ],
   "source": [
    "# Operadores de Membro\n",
    "lista = [1,2,3, 'Ana', 'Carla']\n",
    "2 in lista\n",
    "'Ana'not in lista\n",
    "\n",
    "# Operador de Identidade\n",
    "x = 3\n",
    "y = x\n",
    "z = 3\n",
    "x is y # True\n",
    "y is z # True\n",
    "x is not z # False\n",
    "\n",
    "lista_a = [1, 2, 3]\n",
    "lista_b = lista_a\n",
    "lista_c = [1, 2, 3] \n",
    "# lista_c aponta para uma posição de memoria \n",
    "# diferente de lista_a\n",
    "\n",
    "lista_a is lista_b # true\n",
    "lista_b is lista_c # False\n",
    "lista_a is not lista_c # true"
   ]
  }
 ],
 "metadata": {
  "kernelspec": {
   "display_name": "Python 3",
   "language": "python",
   "name": "python3"
  },
  "language_info": {
   "codemirror_mode": {
    "name": "ipython",
    "version": 3
   },
   "file_extension": ".py",
   "mimetype": "text/x-python",
   "name": "python",
   "nbconvert_exporter": "python",
   "pygments_lexer": "ipython3",
   "version": "3.8.5"
  }
 },
 "nbformat": 4,
 "nbformat_minor": 4
}
